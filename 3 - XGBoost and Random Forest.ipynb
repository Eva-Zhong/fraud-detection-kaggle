{
 "cells": [
  {
   "cell_type": "code",
   "execution_count": 1,
   "metadata": {},
   "outputs": [
    {
     "name": "stderr",
     "output_type": "stream",
     "text": [
      "/Users/evazhong/anaconda3/lib/python3.6/site-packages/sklearn/cross_validation.py:41: DeprecationWarning: This module was deprecated in version 0.18 in favor of the model_selection module into which all the refactored classes and functions are moved. Also note that the interface of the new CV iterators are different from that of this module. This module will be removed in 0.20.\n",
      "  \"This module will be removed in 0.20.\", DeprecationWarning)\n",
      "/Users/evazhong/anaconda3/lib/python3.6/site-packages/sklearn/grid_search.py:42: DeprecationWarning: This module was deprecated in version 0.18 in favor of the model_selection module into which all the refactored classes and functions are moved. This module will be removed in 0.20.\n",
      "  DeprecationWarning)\n"
     ]
    }
   ],
   "source": [
    "import numpy as np\n",
    "import pandas as pd\n",
    "import matplotlib.pyplot as plt\n",
    "\n",
    "from sklearn import datasets\n",
    "from sklearn.model_selection import train_test_split\n",
    "from sklearn.metrics import accuracy_score\n",
    "from sklearn.pipeline import Pipeline\n",
    "from sklearn.preprocessing import Imputer\n",
    "from sklearn.grid_search import GridSearchCV\n",
    "\n",
    "\n",
    "import xgboost as xgb\n",
    "from xgboost import XGBClassifier\n",
    "from xgboost import plot_tree\n",
    "\n",
    "\n",
    "\n"
   ]
  },
  {
   "cell_type": "markdown",
   "metadata": {},
   "source": [
    "#### Load training data"
   ]
  },
  {
   "cell_type": "code",
   "execution_count": 2,
   "metadata": {},
   "outputs": [
    {
     "data": {
      "text/html": [
       "<div>\n",
       "<style scoped>\n",
       "    .dataframe tbody tr th:only-of-type {\n",
       "        vertical-align: middle;\n",
       "    }\n",
       "\n",
       "    .dataframe tbody tr th {\n",
       "        vertical-align: top;\n",
       "    }\n",
       "\n",
       "    .dataframe thead th {\n",
       "        text-align: right;\n",
       "    }\n",
       "</style>\n",
       "<table border=\"1\" class=\"dataframe\">\n",
       "  <thead>\n",
       "    <tr style=\"text-align: right;\">\n",
       "      <th></th>\n",
       "      <th>Time</th>\n",
       "      <th>V1</th>\n",
       "      <th>V2</th>\n",
       "      <th>V3</th>\n",
       "      <th>V4</th>\n",
       "      <th>V5</th>\n",
       "      <th>V6</th>\n",
       "      <th>V7</th>\n",
       "      <th>V8</th>\n",
       "      <th>V9</th>\n",
       "      <th>...</th>\n",
       "      <th>V21</th>\n",
       "      <th>V22</th>\n",
       "      <th>V23</th>\n",
       "      <th>V24</th>\n",
       "      <th>V25</th>\n",
       "      <th>V26</th>\n",
       "      <th>V27</th>\n",
       "      <th>V28</th>\n",
       "      <th>Amount</th>\n",
       "      <th>Class</th>\n",
       "    </tr>\n",
       "  </thead>\n",
       "  <tbody>\n",
       "    <tr>\n",
       "      <th>0</th>\n",
       "      <td>158453.0</td>\n",
       "      <td>2.094561</td>\n",
       "      <td>-0.827280</td>\n",
       "      <td>-1.493206</td>\n",
       "      <td>-0.513444</td>\n",
       "      <td>-0.428918</td>\n",
       "      <td>-0.794959</td>\n",
       "      <td>-0.281462</td>\n",
       "      <td>-0.288319</td>\n",
       "      <td>-0.539413</td>\n",
       "      <td>...</td>\n",
       "      <td>-0.120575</td>\n",
       "      <td>0.051099</td>\n",
       "      <td>0.103849</td>\n",
       "      <td>0.684904</td>\n",
       "      <td>-0.071362</td>\n",
       "      <td>0.761780</td>\n",
       "      <td>-0.080165</td>\n",
       "      <td>-0.049095</td>\n",
       "      <td>65.14</td>\n",
       "      <td>0.0</td>\n",
       "    </tr>\n",
       "    <tr>\n",
       "      <th>1</th>\n",
       "      <td>163503.0</td>\n",
       "      <td>1.971197</td>\n",
       "      <td>-0.326286</td>\n",
       "      <td>-1.303626</td>\n",
       "      <td>0.363868</td>\n",
       "      <td>0.099659</td>\n",
       "      <td>-0.301053</td>\n",
       "      <td>-0.024899</td>\n",
       "      <td>-0.091013</td>\n",
       "      <td>0.527642</td>\n",
       "      <td>...</td>\n",
       "      <td>0.191623</td>\n",
       "      <td>0.746659</td>\n",
       "      <td>0.005074</td>\n",
       "      <td>0.860414</td>\n",
       "      <td>0.185236</td>\n",
       "      <td>0.666558</td>\n",
       "      <td>-0.080570</td>\n",
       "      <td>-0.069806</td>\n",
       "      <td>29.61</td>\n",
       "      <td>0.0</td>\n",
       "    </tr>\n",
       "    <tr>\n",
       "      <th>2</th>\n",
       "      <td>143201.0</td>\n",
       "      <td>2.031495</td>\n",
       "      <td>-0.269744</td>\n",
       "      <td>-0.536151</td>\n",
       "      <td>0.298784</td>\n",
       "      <td>-0.340236</td>\n",
       "      <td>-0.348439</td>\n",
       "      <td>-0.426236</td>\n",
       "      <td>-0.078201</td>\n",
       "      <td>1.243864</td>\n",
       "      <td>...</td>\n",
       "      <td>-0.218718</td>\n",
       "      <td>-0.446918</td>\n",
       "      <td>0.280030</td>\n",
       "      <td>-0.684374</td>\n",
       "      <td>-0.318016</td>\n",
       "      <td>-0.583326</td>\n",
       "      <td>0.037731</td>\n",
       "      <td>-0.036324</td>\n",
       "      <td>7.99</td>\n",
       "      <td>0.0</td>\n",
       "    </tr>\n",
       "    <tr>\n",
       "      <th>3</th>\n",
       "      <td>81865.0</td>\n",
       "      <td>-2.624081</td>\n",
       "      <td>2.153765</td>\n",
       "      <td>0.752903</td>\n",
       "      <td>0.234243</td>\n",
       "      <td>-1.195105</td>\n",
       "      <td>1.798252</td>\n",
       "      <td>-3.797852</td>\n",
       "      <td>-6.979159</td>\n",
       "      <td>-0.908887</td>\n",
       "      <td>...</td>\n",
       "      <td>-3.528764</td>\n",
       "      <td>2.117063</td>\n",
       "      <td>0.327859</td>\n",
       "      <td>0.248706</td>\n",
       "      <td>-0.463584</td>\n",
       "      <td>0.404743</td>\n",
       "      <td>0.207824</td>\n",
       "      <td>0.184777</td>\n",
       "      <td>29.99</td>\n",
       "      <td>0.0</td>\n",
       "    </tr>\n",
       "    <tr>\n",
       "      <th>4</th>\n",
       "      <td>80145.0</td>\n",
       "      <td>-0.857634</td>\n",
       "      <td>1.107747</td>\n",
       "      <td>1.063217</td>\n",
       "      <td>1.243953</td>\n",
       "      <td>-0.142669</td>\n",
       "      <td>0.322056</td>\n",
       "      <td>0.146324</td>\n",
       "      <td>0.715638</td>\n",
       "      <td>-0.631533</td>\n",
       "      <td>...</td>\n",
       "      <td>0.066211</td>\n",
       "      <td>0.313025</td>\n",
       "      <td>-0.065624</td>\n",
       "      <td>0.022921</td>\n",
       "      <td>-0.111658</td>\n",
       "      <td>-0.237568</td>\n",
       "      <td>0.292232</td>\n",
       "      <td>0.120861</td>\n",
       "      <td>26.45</td>\n",
       "      <td>0.0</td>\n",
       "    </tr>\n",
       "  </tbody>\n",
       "</table>\n",
       "<p>5 rows × 31 columns</p>\n",
       "</div>"
      ],
      "text/plain": [
       "       Time        V1        V2        V3        V4        V5        V6  \\\n",
       "0  158453.0  2.094561 -0.827280 -1.493206 -0.513444 -0.428918 -0.794959   \n",
       "1  163503.0  1.971197 -0.326286 -1.303626  0.363868  0.099659 -0.301053   \n",
       "2  143201.0  2.031495 -0.269744 -0.536151  0.298784 -0.340236 -0.348439   \n",
       "3   81865.0 -2.624081  2.153765  0.752903  0.234243 -1.195105  1.798252   \n",
       "4   80145.0 -0.857634  1.107747  1.063217  1.243953 -0.142669  0.322056   \n",
       "\n",
       "         V7        V8        V9  ...         V21       V22       V23  \\\n",
       "0 -0.281462 -0.288319 -0.539413  ...   -0.120575  0.051099  0.103849   \n",
       "1 -0.024899 -0.091013  0.527642  ...    0.191623  0.746659  0.005074   \n",
       "2 -0.426236 -0.078201  1.243864  ...   -0.218718 -0.446918  0.280030   \n",
       "3 -3.797852 -6.979159 -0.908887  ...   -3.528764  2.117063  0.327859   \n",
       "4  0.146324  0.715638 -0.631533  ...    0.066211  0.313025 -0.065624   \n",
       "\n",
       "        V24       V25       V26       V27       V28  Amount  Class  \n",
       "0  0.684904 -0.071362  0.761780 -0.080165 -0.049095   65.14    0.0  \n",
       "1  0.860414  0.185236  0.666558 -0.080570 -0.069806   29.61    0.0  \n",
       "2 -0.684374 -0.318016 -0.583326  0.037731 -0.036324    7.99    0.0  \n",
       "3  0.248706 -0.463584  0.404743  0.207824  0.184777   29.99    0.0  \n",
       "4  0.022921 -0.111658 -0.237568  0.292232  0.120861   26.45    0.0  \n",
       "\n",
       "[5 rows x 31 columns]"
      ]
     },
     "execution_count": 2,
     "metadata": {},
     "output_type": "execute_result"
    }
   ],
   "source": [
    "df = pd.read_csv(\"data/resample_df.csv\")\n",
    "df = df.drop([\"Unnamed: 0\"],1)\n",
    "df.head()"
   ]
  },
  {
   "cell_type": "code",
   "execution_count": 3,
   "metadata": {},
   "outputs": [
    {
     "data": {
      "text/plain": [
       "Time      0\n",
       "V1        0\n",
       "V2        0\n",
       "V3        0\n",
       "V4        0\n",
       "V5        0\n",
       "V6        0\n",
       "V7        0\n",
       "V8        0\n",
       "V9        0\n",
       "V10       0\n",
       "V11       0\n",
       "V12       0\n",
       "V13       0\n",
       "V14       0\n",
       "V15       0\n",
       "V16       0\n",
       "V17       0\n",
       "V18       0\n",
       "V19       0\n",
       "V20       0\n",
       "V21       0\n",
       "V22       0\n",
       "V23       0\n",
       "V24       0\n",
       "V25       0\n",
       "V26       0\n",
       "V27       0\n",
       "V28       0\n",
       "Amount    0\n",
       "Class     0\n",
       "dtype: int64"
      ]
     },
     "execution_count": 3,
     "metadata": {},
     "output_type": "execute_result"
    }
   ],
   "source": [
    "df.isna().sum()"
   ]
  },
  {
   "cell_type": "code",
   "execution_count": 4,
   "metadata": {},
   "outputs": [],
   "source": [
    "# Keep a copy of original df\n",
    "original_df = pd.DataFrame.copy(df)\n",
    "\n",
    "# data = data.drop(\"Cabin\",axis=1)"
   ]
  },
  {
   "cell_type": "code",
   "execution_count": 8,
   "metadata": {},
   "outputs": [
    {
     "data": {
      "text/plain": [
       "(396664, 30)"
      ]
     },
     "execution_count": 8,
     "metadata": {},
     "output_type": "execute_result"
    }
   ],
   "source": [
    "y = df.Class\n",
    "X = df.drop([\"Class\"], 1)\n",
    "# All columns have the type: pandas.core.series.Series\n",
    "X.shape\n"
   ]
  },
  {
   "cell_type": "code",
   "execution_count": 9,
   "metadata": {},
   "outputs": [],
   "source": [
    "from sklearn.model_selection import train_test_split\n",
    "\n",
    "X_sub, X_test, y_sub, y_test = train_test_split(X, y, test_size=0.5, random_state=42)"
   ]
  },
  {
   "cell_type": "markdown",
   "metadata": {},
   "source": [
    "### Random Forest"
   ]
  },
  {
   "cell_type": "markdown",
   "metadata": {},
   "source": [
    "### XGBoost Basic"
   ]
  },
  {
   "cell_type": "code",
   "execution_count": 10,
   "metadata": {},
   "outputs": [
    {
     "data": {
      "text/plain": [
       "XGBClassifier(base_score=0.5, booster='gbtree', colsample_bylevel=1,\n",
       "       colsample_bynode=1, colsample_bytree=1, gamma=0, learning_rate=0.1,\n",
       "       max_delta_step=0, max_depth=3, min_child_weight=1, missing=None,\n",
       "       n_estimators=100, n_jobs=1, nthread=None,\n",
       "       objective='binary:logistic', random_state=0, reg_alpha=0,\n",
       "       reg_lambda=1, scale_pos_weight=1, seed=None, silent=None,\n",
       "       subsample=1, verbosity=1)"
      ]
     },
     "execution_count": 10,
     "metadata": {},
     "output_type": "execute_result"
    }
   ],
   "source": [
    "from xgboost import XGBClassifier\n",
    "# fit model no training data\n",
    "\n",
    "bst = XGBClassifier()\n",
    "bst.fit(X_sub, y_sub)"
   ]
  },
  {
   "cell_type": "markdown",
   "metadata": {},
   "source": [
    "### XGBoost with Gridsearch Hypertuning and Cross Validation"
   ]
  },
  {
   "cell_type": "code",
   "execution_count": null,
   "metadata": {},
   "outputs": [],
   "source": [
    "# And build a training pipeline with a small amount of hyper-parameter testing\n",
    "\n",
    "pipeline = Pipeline([('imputer', Imputer(strategy='median')), ('model', XGBClassifier())])\n",
    "\n",
    "parameters = dict(model__max_depth=[3, 5, 7],\n",
    "                  model__learning_rate=[.01, .1],\n",
    "                  model__n_estimators=[100, 500])\n",
    "\n",
    "cv = GridSearchCV(pipeline, param_grid=parameters)\n",
    "\n",
    "cv.fit(X_sub, y_sub)"
   ]
  },
  {
   "cell_type": "code",
   "execution_count": null,
   "metadata": {},
   "outputs": [],
   "source": [
    "#### "
   ]
  },
  {
   "cell_type": "code",
   "execution_count": null,
   "metadata": {},
   "outputs": [],
   "source": [
    "#### Make predictions\n",
    "\n",
    "#### Calculate confusion matrix"
   ]
  },
  {
   "cell_type": "code",
   "execution_count": null,
   "metadata": {},
   "outputs": [],
   "source": [
    "#### Plot confusion matrix"
   ]
  }
 ],
 "metadata": {
  "kernelspec": {
   "display_name": "Python 3",
   "language": "python",
   "name": "python3"
  },
  "language_info": {
   "codemirror_mode": {
    "name": "ipython",
    "version": 3
   },
   "file_extension": ".py",
   "mimetype": "text/x-python",
   "name": "python",
   "nbconvert_exporter": "python",
   "pygments_lexer": "ipython3",
   "version": "3.6.5"
  }
 },
 "nbformat": 4,
 "nbformat_minor": 2
}
